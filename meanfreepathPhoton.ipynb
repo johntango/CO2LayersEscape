{
 "cells": [
  {
   "cell_type": "markdown",
   "metadata": {},
   "source": [
    "# Mean-free-path"
   ]
  },
  {
   "cell_type": "code",
   "execution_count": 11,
   "metadata": {},
   "outputs": [
    {
     "name": "stdout",
     "output_type": "stream",
     "text": [
      "Number Density of Air at Sea Level: 2.50e+25\n",
      "Number Density of CO2 at Sea Level: 1.00e+22\n",
      "Mean Free Path of a CO2absorbed photon at sea level: 1.00e+00 meters\n"
     ]
    }
   ],
   "source": [
    "#Constants\n",
    "import math\n",
    "\n",
    "n0 = 2.5 * math.pow(10, 25) # Number density of air molecules at sea level (molecules/m^3)\n",
    "\n",
    "ppm_CO2 = 400; # CO2 concentration in ppm\n",
    "\n",
    "sigma = math.pow(10, -22) # Absorption cross-section of CO2 (m^2)\n",
    "\n",
    "# Calculate number density of CO2 at sea level\n",
    "\n",
    "n_CO2 = n0 * (ppm_CO2 / math.pow(10, 6)) # Number density of CO2 (molecules/m^3)\n",
    "\n",
    "# Calculate mean free path\n",
    "\n",
    "meanFreePath = 1 / (n_CO2 * sigma)\n",
    "\n",
    "# Output results\n",
    "print(f'Number Density of Air at Sea Level: {'{:.2e}'.format(n0)}')\n",
    "print(f'Number Density of CO2 at Sea Level: {'{:.2e}'.format(n_CO2)}')\n",
    "print(f'Mean Free Path of a CO2absorbed photon at sea level: {'{:.2e}'.format(meanFreePath)} meters')\n",
    "# Re-Emission of photons occurs between 10-6 and 10-4 seconds after absorption. \n",
    "# Assuming re-radiation at a random directions how long will it take for a photon to escape past the first 100 meters of the atmosphere?\n",
    "# Assume mean free path is 1m and the speed of light is 3 x 10^8 m/s\n"
   ]
  }
 ],
 "metadata": {
  "language_info": {
   "name": "python"
  }
 },
 "nbformat": 4,
 "nbformat_minor": 2
}

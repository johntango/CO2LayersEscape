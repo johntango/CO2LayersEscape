{
 "cells": [
  {
   "cell_type": "markdown",
   "metadata": {},
   "source": [
    "# Calculation of Photons in $CO^2$ central band and $CO^2$ population excited"
   ]
  },
  {
   "cell_type": "markdown",
   "metadata": {},
   "source": [
    "# Outputs\n",
    "\n",
    "### Number density of air molecules (n_air): $2.446e^{+25}$ molecules/m³\n",
    "### Number density of CO₂ molecules (n_CO2): $9.783e^{+21}$ molecules/m³\n",
    "### Spectral radiance (B_lambda): $6.693e^{6}$ W·m⁻²·sr⁻¹·m⁻¹ note we should convert to bandwidth in microns ie $10^{-6} so it would be about $6.7 W·m⁻²·sr⁻¹·\\mu⁻¹$\n",
    "### Spectral photon flux density $N_\\lambda$: $5.054e^{+26}$ photons·m⁻²·s⁻¹·m⁻¹\n",
    "### Total photon flux $\\Phi_{total}$: $5.054e^{+20}$ photons·m⁻²·s⁻¹\n",
    "### Absorption rate per CO₂ molecule (R): $5.054e^{-2}$ s⁻¹\n",
    "### Average time between photon absorptions $\\tau$ : 19.79 seconds\n",
    "\n",
    "**Explanation:**\n",
    "\n",
    "- **Constants and Atmospheric Conditions:**\n",
    "  - We define all the physical constants and atmospheric conditions needed for the calculation.\n",
    "  - CO₂ mole fraction is set to 400 ppm, converted to a fraction by multiplying by $1.0 10^{-6}$\n",
    "\n",
    "- **Step 1 & 2:** Calculate the number densities of air and CO₂ molecules using the ideal gas law.\n",
    "\n",
    "- **Step 3:** Use Planck's Law to compute the spectral radiance \n",
    "$B(\\lambda, T) $\n",
    "  - x is the dimensionless parameter in the exponent.\n",
    "  - The spectral radiance is calculated in units of ${W·m}^{-2} {·sr}^{-1}{·m}^{-1}$\n",
    "\n",
    "- **Step 4:** Convert spectral radiance to spectral photon flux density \n",
    "$ N(\\lambda, T)$\n",
    "  - We multiply $B(\\lambda, T)$ by $\\pi$ to account for emission over a hemisphere.\n",
    "  - Photon energy is calculated to convert radiance to photon flux.\n",
    "\n",
    "- **Step 5:** Calculate the total photon flux in the CO₂ absorption band by multiplying $N(\\lambda, T)$ by the bandwidth $ \\Delta \\lambda$.\n",
    "\n",
    "- **Step 6:** Calculate the absorption rate $R$ per CO₂ molecule using the absorption cross-section $\\sigma$.\n",
    "\n",
    "- **Step 7:** Compute the average time $\\tau$ between photon absorption events as the inverse of the absorption rate.\n",
    "\n",
    "**Note:** This code assumes a simplified model and uses approximate values for some parameters like the absorption cross-section and bandwidth. In practice, these values can vary, and more detailed spectral data may be needed for precise calculations."
   ]
  },
  {
   "cell_type": "markdown",
   "metadata": {},
   "source": []
  },
  {
   "cell_type": "code",
   "execution_count": 1,
   "metadata": {},
   "outputs": [
    {
     "name": "stdout",
     "output_type": "stream",
     "text": [
      "Number density of air molecules (n_air): 2.446e+25 molecules/m³\n",
      "Number density of CO₂ molecules (n_CO2): 9.785e+21 molecules/m³\n"
     ]
    }
   ],
   "source": [
    "# Constants\n",
    "import math\n",
    "import numpy as np\n",
    "import pandas as pd\n",
    "\n",
    "# Physical constants\n",
    "h = 6.62607015e-34        # Planck's constant (J·s)\n",
    "c = 2.99792458e8          # Speed of light (m/s)\n",
    "k_B = 1.380649e-23        # Boltzmann constant (J/K)\n",
    "NA = 6.02214076e23        # Avogadro's number (1/mol)\n",
    "\n",
    "# Atmospheric conditions\n",
    "P = 1.01325e5             # Atmospheric pressure at sea level (Pa)\n",
    "T = 300                   # Temperature (K)\n",
    "CO2_mole_fraction = 400e-6  # CO₂ mole fraction (ppm converted to fraction)\n",
    "\n",
    "# Wavelength and spectral properties\n",
    "lambda_um = 15            # Wavelength in micrometers\n",
    "lambda_m = lambda_um * 1e-6  # Wavelength in meters\n",
    "delta_lambda_um = 1       # Bandwidth in micrometers\n",
    "delta_lambda_m = delta_lambda_um * 1e-6  # Bandwidth in meters\n",
    "\n",
    "# Absorption cross-section of CO₂\n",
    "sigma = 1e-22             # Absorption cross-section (m²)\n",
    "\n",
    "# Step 1: Calculate the number density of air molecules\n",
    "n_air = P / (k_B * T)  # in molecules per cubic meter\n",
    "print(f\"Number density of air molecules (n_air): {n_air:.3e} molecules/m³\")\n",
    "\n",
    "# Step 2: Calculate the number density of CO₂ molecules\n",
    "n_CO2 = CO2_mole_fraction * n_air\n",
    "print(f\"Number density of CO₂ molecules (n_CO2): {n_CO2:.3e} molecules/m³\")\n",
    "\n"
   ]
  },
  {
   "cell_type": "code",
   "execution_count": 2,
   "metadata": {},
   "outputs": [
    {
     "name": "stdout",
     "output_type": "stream",
     "text": [
      "Spectral radiance (B_lambda): 6.684e+06 W·m⁻²·sr⁻¹·m⁻¹\n",
      "Spectral photon flux density (N_lambda): 1.586e+27 photons·m⁻²·s⁻¹·m⁻¹\n",
      "Total photon flux (Phi_total): 1.586e+21 photons·m⁻²·s⁻¹\n"
     ]
    }
   ],
   "source": [
    "# Step 3: Compute the spectral radiance using Planck's Law\n",
    "x = (h * c) / (lambda_m * k_B * T)\n",
    "exponent = math.exp(x)\n",
    "B_lambda = (2 * h * c**2) / (lambda_m**5) * 1 / (exponent - 1)  # W·m⁻²·sr⁻¹·m⁻¹\n",
    "print(f\"Spectral radiance (B_lambda): {B_lambda:.3e} W·m⁻²·sr⁻¹·m⁻¹\")\n",
    "\n",
    "# Step 4: Convert spectral radiance to spectral photon flux density\n",
    "# Multiply by pi to account for hemispherical emission\n",
    "B_lambda_total = B_lambda * math.pi  # W·m⁻²·m⁻¹\n",
    "photon_energy = (h * c) / lambda_m   # Energy per photon (J)\n",
    "N_lambda = B_lambda_total / photon_energy  # photons·m⁻²·s⁻¹·m⁻¹\n",
    "print(f\"Spectral photon flux density (N_lambda): {N_lambda:.3e} photons·m⁻²·s⁻¹·m⁻¹\")\n",
    "\n",
    "# Step 5: Calculate the photon flux in the CO₂ absorption band\n",
    "Phi_total = N_lambda * delta_lambda_m  # photons·m⁻²·s⁻¹\n",
    "print(f\"Total photon flux (Phi_total): {Phi_total:.3e} photons·m⁻²·s⁻¹\")\n",
    "\n"
   ]
  },
  {
   "cell_type": "code",
   "execution_count": 3,
   "metadata": {},
   "outputs": [
    {
     "name": "stdout",
     "output_type": "stream",
     "text": [
      "Absorption rate per CO₂ molecule (R): 1.586e-01 s⁻¹\n",
      "Average time between photon absorptions (tau): 6.31 seconds\n"
     ]
    }
   ],
   "source": [
    "# Step 6: Calculate the absorption rate per CO₂ molecule\n",
    "R = Phi_total * sigma  # s⁻¹\n",
    "print(f\"Absorption rate per CO₂ molecule (R): {R:.3e} s⁻¹\")\n",
    "\n",
    "# Step 7: Compute the average time between photon absorption events\n",
    "tau = 1 / R  # seconds\n",
    "print(f\"Average time between photon absorptions (tau): {tau:.2f} seconds\")"
   ]
  }
 ],
 "metadata": {
  "language_info": {
   "name": "python"
  }
 },
 "nbformat": 4,
 "nbformat_minor": 2
}

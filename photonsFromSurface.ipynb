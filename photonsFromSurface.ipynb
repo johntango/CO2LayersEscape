{
 "cells": [
  {
   "cell_type": "markdown",
   "metadata": {},
   "source": [
    "# Calculation of Photons in CO2 central band and CO2 population excited"
   ]
  },
  {
   "cell_type": "markdown",
   "metadata": {},
   "source": []
  },
  {
   "cell_type": "code",
   "execution_count": null,
   "metadata": {
    "vscode": {
     "languageId": "plaintext"
    }
   },
   "outputs": [],
   "source": [
    "# Constants\n",
    "import math\n",
    "import numpy as np\n",
    "import pandas as pd\n",
    "\n",
    "# Physical constants\n",
    "h = 6.62607015e-34        # Planck's constant (J·s)\n",
    "c = 2.99792458e8          # Speed of light (m/s)\n",
    "k_B = 1.380649e-23        # Boltzmann constant (J/K)\n",
    "NA = 6.02214076e23        # Avogadro's number (1/mol)\n",
    "\n",
    "# Atmospheric conditions\n",
    "P = 1.01325e5             # Atmospheric pressure at sea level (Pa)\n",
    "T = 300                   # Temperature (K)\n",
    "CO2_mole_fraction = 400e-6  # CO₂ mole fraction (ppm converted to fraction)\n",
    "\n",
    "# Wavelength and spectral properties\n",
    "lambda_um = 15            # Wavelength in micrometers\n",
    "lambda_m = lambda_um * 1e-6  # Wavelength in meters\n",
    "delta_lambda_um = 1       # Bandwidth in micrometers\n",
    "delta_lambda_m = delta_lambda_um * 1e-6  # Bandwidth in meters\n",
    "\n",
    "# Absorption cross-section of CO₂\n",
    "sigma = 1e-22             # Absorption cross-section (m²)\n",
    "\n",
    "# Step 1: Calculate the number density of air molecules\n",
    "n_air = P / (k_B * T)  # in molecules per cubic meter\n",
    "print(f\"Number density of air molecules (n_air): {n_air:.3e} molecules/m³\")\n",
    "\n",
    "# Step 2: Calculate the number density of CO₂ molecules\n",
    "n_CO2 = CO2_mole_fraction * n_air\n",
    "print(f\"Number density of CO₂ molecules (n_CO2): {n_CO2:.3e} molecules/m³\")\n",
    "\n"
   ]
  },
  {
   "cell_type": "code",
   "execution_count": null,
   "metadata": {
    "vscode": {
     "languageId": "plaintext"
    }
   },
   "outputs": [],
   "source": [
    "# Step 3: Compute the spectral radiance using Planck's Law\n",
    "x = (h * c) / (lambda_m * k_B * T)\n",
    "exponent = math.exp(x)\n",
    "B_lambda = (2 * h * c**2) / (lambda_m**5) * 1 / (exponent - 1)  # W·m⁻²·sr⁻¹·m⁻¹\n",
    "print(f\"Spectral radiance (B_lambda): {B_lambda:.3e} W·m⁻²·sr⁻¹·m⁻¹\")\n",
    "\n",
    "# Step 4: Convert spectral radiance to spectral photon flux density\n",
    "# Multiply by pi to account for hemispherical emission\n",
    "B_lambda_total = B_lambda * math.pi  # W·m⁻²·m⁻¹\n",
    "photon_energy = (h * c) / lambda_m   # Energy per photon (J)\n",
    "N_lambda = B_lambda_total / photon_energy  # photons·m⁻²·s⁻¹·m⁻¹\n",
    "print(f\"Spectral photon flux density (N_lambda): {N_lambda:.3e} photons·m⁻²·s⁻¹·m⁻¹\")\n",
    "\n",
    "# Step 5: Calculate the photon flux in the CO₂ absorption band\n",
    "Phi_total = N_lambda * delta_lambda_m  # photons·m⁻²·s⁻¹\n",
    "print(f\"Total photon flux (Phi_total): {Phi_total:.3e} photons·m⁻²·s⁻¹\")\n",
    "\n"
   ]
  },
  {
   "cell_type": "code",
   "execution_count": null,
   "metadata": {
    "vscode": {
     "languageId": "plaintext"
    }
   },
   "outputs": [],
   "source": [
    "# Step 6: Calculate the absorption rate per CO₂ molecule\n",
    "R = Phi_total * sigma  # s⁻¹\n",
    "print(f\"Absorption rate per CO₂ molecule (R): {R:.3e} s⁻¹\")\n",
    "\n",
    "# Step 7: Compute the average time between photon absorption events\n",
    "tau = 1 / R  # seconds\n",
    "print(f\"Average time between photon absorptions (tau): {tau:.2f} seconds\")"
   ]
  },
  {
   "cell_type": "code",
   "execution_count": null,
   "metadata": {
    "vscode": {
     "languageId": "plaintext"
    }
   },
   "outputs": [],
   "source": []
  }
 ],
 "metadata": {
  "language_info": {
   "name": "python"
  }
 },
 "nbformat": 4,
 "nbformat_minor": 2
}

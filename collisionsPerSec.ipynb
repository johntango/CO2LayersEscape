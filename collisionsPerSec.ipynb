{
 "cells": [
  {
   "cell_type": "markdown",
   "metadata": {},
   "source": [
    "# Calculate Collisons per second at sea level\n",
    "#### Mean Free Path (λ): 6.45e-08 meters\n",
    "#### Average Thermal Speed (v_avg): 466.53 meters/second\n",
    "#### Number of Collisions per Second: 7.23e+09 collisions/second\n",
    "#### time to collide: 1.5 e-10 seconds"
   ]
  },
  {
   "cell_type": "code",
   "execution_count": null,
   "metadata": {},
   "outputs": [
    {
     "name": "stdout",
     "output_type": "stream",
     "text": [
      "Mean Free Path (λ): 6.45e-08 meters\n",
      "Average Thermal Speed (v_avg): 466.53 meters/second\n",
      "Number of Collisions per Second: 7.23e+09 collisions/second\n",
      "time to collide: 1.38231581027077e-10 seconds\n"
     ]
    }
   ],
   "source": [
    "import math\n",
    "# Constants\n",
    "k_B = 1.38e-23; # Boltzmann constant in J/K\n",
    "T = 288; # Temperature at sea level in Kelvin\n",
    "d = 3.7e-10; # Diameter of a nitrogen molecule in meters\n",
    "P = 101325; # Pressure at sea level in Pascals\n",
    "m = 4.65e-26; # Mass of a nitrogen molecule in kg\n",
    "pi = math.pi; # Value of Pi\n",
    "# ====================================================================================================\n",
    "# Number density of air molecules (n_air): 2.446e+25 molecules/m³\n",
    "# Number density of CO₂ molecules (n_CO2): 9.783e+21 molecules/m³\n",
    "# # Spectral radiance (B_lambda): 6.693e+06 W·m⁻²·sr⁻¹·m⁻¹\n",
    "# Spectral photon flux density (N_lambda): 5.054e+26 photons·m⁻²·s⁻¹·m⁻¹\n",
    "# Total photon flux (Phi_total): 5.054e+20 photons·m⁻²·s⁻¹\n",
    "# Absorption rate per CO₂ molecule (R): 5.054e-02 s⁻¹\n",
    "# Average time between photon absorptions (tau): 19.79 seconds\n",
    "\n",
    "# Step 1: Mean free path calculation\n",
    "def meanFreePath(k_B, T, d, P):\n",
    "    return (k_B * T) / (math.sqrt(2) * pi * math.pow(d, 2) * P)\n",
    "\n",
    "\n",
    "# Step 2: Thermal speed calculation\n",
    "def thermalSpeed(k_B, T, m):\n",
    "    return math.sqrt((8 * k_B * T) / (pi * m))\n",
    "\n",
    "# Step 3: Number of collisions per second\n",
    "def numberOfCollisions(v_avg, lamda):\n",
    "    return v_avg / lamda\n",
    "\n",
    "# Calculate the mean free path (lamda)\n",
    "lamda = meanFreePath(k_B, T, d, P)\n",
    "\n",
    "# Calculate the average thermal speed (v_avg)\n",
    "v_avg = thermalSpeed(k_B, T, m)\n",
    "\n",
    "# Calculate the number of collisions per second (Z)\n",
    "collisionsPerSecond = numberOfCollisions(v_avg, lamda)\n",
    "\n",
    "# Output the results\n",
    "print(f'Mean Free Path (λ): {round(lamda,10)} meters')\n",
    "print(f'Average Thermal Speed (v_avg): {round(v_avg,2)} meters/second')\n",
    "print(f'Number of Collisions per Second: {'{:.2e}'.format(collisionsPerSecond)} collisions/second')\n",
    "print(f'time to collide: {1/collisionsPerSecond} seconds')\n"
   ]
  }
 ],
 "metadata": {
  "language_info": {
   "name": "python"
  }
 },
 "nbformat": 4,
 "nbformat_minor": 2
}
